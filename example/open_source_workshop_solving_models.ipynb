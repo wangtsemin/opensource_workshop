{
 "cells": [
  {
   "cell_type": "markdown",
   "metadata": {},
   "source": [
    "# Solving models\n",
    "\n",
    "When solving models, we tend to use two mathematical tools:\n",
    "\n",
    "* maximization\n",
    "* equilibrium\n",
    "\n",
    "We usually analyze agents maximizing utility, firms maximizing profits and regulators/planners maximizing welfare. Hence, this file gives an introduction to optimization in python. It gives examples and illustrates where you can look for more or terms that you can google to find more information.\n",
    "\n",
    "When more than one agent/firm/planner interacts, we derive the equilibrium. Equilibrium is a fixed point --in terms of reaction functions-- and hence we also introduce a number of solvers.\n",
    "\n",
    "There are number of optimization routines and solvers for python. For our course, it is sufficient to work with the optimize library from [scipy](http://docs.scipy.org/doc/scipy/reference/optimize.html). You can use the documentation at this site or google \"scipy fsolve\" to find examples that you can copy and adapt to your purposes.\n",
    "\n",
    "If, at some point, you need other solvers/maximizers, you can take a look at [this website](http://www.scipy.org/topical-software.html) for an overview of scientific tools for python.\n",
    "\n",
    "We first consider numerical model solving. Then we give a short introduction to doing math with symbols in python.\n",
    "\n",
    "First, we import the relevant libraries. Numpy and scipy are math libraries for python. We import matplotlib to create figures which will be displayed in the notebook because of `%matplotlib inline`."
   ]
  },
  {
   "cell_type": "code",
   "execution_count": 1,
   "metadata": {
    "collapsed": true
   },
   "outputs": [],
   "source": [
    "from scipy import optimize,arange\n",
    "from numpy import array\n",
    "import matplotlib.pyplot as plt\n",
    "%matplotlib inline"
   ]
  },
  {
   "cell_type": "markdown",
   "metadata": {},
   "source": [
    "## Numerical solving an I.O. model\n",
    "\n",
    "We use the following example from industrial organization (I.O.). Firms operating in a market, maximizing profits. We first look at the monopoly problem, where we focus on profit maximization (as equilibrium is no issue here). \n",
    "\n",
    "Then we look at the case with two or more firms, where we both maximize profits and find an equilibrium.\n",
    "\n",
    "In all the examples, we work with a linear demand curve $p(Q)=1-Q$ and costs $c(q)=c_i q$, where $Q$ denotes total output on the market and $q$ the output level of one firm. For a monopolist, we obviously have $q=Q$.\n"
   ]
  },
  {
   "cell_type": "code",
   "execution_count": 2,
   "metadata": {
    "collapsed": true
   },
   "outputs": [],
   "source": [
    "def demand(Q):\n",
    "    return 1-Q\n",
    "\n",
    "def cost(q,c):  # c is constant marginal cost\n",
    "    return c*q\n"
   ]
  },
  {
   "cell_type": "markdown",
   "metadata": {},
   "source": [
    "### Monopoly\n",
    "\n",
    "Monopoly profits are given by $\\pi(q) = (1-q)q-cq$. When we solve this analytically, we take the first order condition: $1-2q-c=0$ and hence $q = (1-c)/2$. Hence, for $c=0$, we find $q=0.5$.\n",
    "\n",
    "Indeed, we can use a solver like `fsolve` to find this outcome. With $c=0$, `fsolve` finds the solution to $1-2q=0$. We use a lambda-function to define this (rather simple) equation:\n"
   ]
  },
  {
   "cell_type": "code",
   "execution_count": 4,
   "metadata": {
    "collapsed": false
   },
   "outputs": [
    {
     "name": "stdout",
     "output_type": "stream",
     "text": [
      "[ 0.5]\n"
     ]
    }
   ],
   "source": [
    "output = optimize.fsolve(lambda q: 1-2*q, 0)\n",
    "print output"
   ]
  },
  {
   "cell_type": "markdown",
   "metadata": {},
   "source": [
    "`fsolve` needs a function (here the lambda-function) and an initial guess for the solution (here we start from $q = 0$)."
   ]
  },
  {
   "cell_type": "markdown",
   "metadata": {},
   "source": [
    "But we can also use maximization directly. Scipy has only minimization routines, hence to maximize profits $\\pi(q)$, we need to minimize negative profits $-\\pi(q)$. For this we can use a local optimizer like `fmin`."
   ]
  },
  {
   "cell_type": "code",
   "execution_count": 38,
   "metadata": {
    "collapsed": false
   },
   "outputs": [
    {
     "name": "stdout",
     "output_type": "stream",
     "text": [
      "Optimization terminated successfully.\n",
      "         Current function value: -0.250000\n",
      "         Iterations: 23\n",
      "         Function evaluations: 46\n",
      "[ 0.5]\n"
     ]
    }
   ],
   "source": [
    "def minus_profits(q,*args):         # we want to see profits as a function of q when we maximize profits or\n",
    "    return -(demand(q)*q-cost(q,c)) # minimize minus_profits; hence c is specified as \"*args\", when calling fmin\n",
    "                                    # we specify the c in the \"args=(c,)\"\n",
    "x0 = 0\n",
    "c = 0.0\n",
    "output = optimize.fmin(minus_profits,x0,args=(c,)) # note the comma in \"args(c,)\"; it needs to be there!\n",
    "print output"
   ]
  },
  {
   "cell_type": "markdown",
   "metadata": {},
   "source": [
    "Hence the optimal output value equals 0.5 (as we found above). Profits at this optimal output level equal 0.25 (that is $-$`minus_profits`$=0.25$).\n",
    "\n",
    "As an alternative, you can also use a global optimizer like `brute`. It uses the following syntax. It does not require an initial guess but a range in which to look for the optimum, here the range $(0.0,1.0)$. The answer is close enough to 0.5."
   ]
  },
  {
   "cell_type": "code",
   "execution_count": 36,
   "metadata": {
    "collapsed": false
   },
   "outputs": [
    {
     "name": "stdout",
     "output_type": "stream",
     "text": [
      "[ 0.49995888]\n"
     ]
    }
   ],
   "source": [
    "c = 0.0\n",
    "output = optimize.brute(minus_profits,((0.0,1.0),),args=(c,)) \n",
    "print output"
   ]
  },
  {
   "cell_type": "markdown",
   "metadata": {},
   "source": [
    "### Duopoly\n",
    "\n",
    "In a duopoly in this set-up, we have firms 1 and 2 producing perfect substitutes. Output level of firm $i$ is denoted $q_i$. Firm $i$'s profit is written as $\\pi(q_i,q_j)=(1-q_i-q_j)q_i-c_i q_i$ for $j \\neq i$. The way we usually solve this analytically is as follows.\n",
    "\n",
    "The two first order conditions for firms 1 and 2 can be written as:\n",
    "\n",
    "$$\n",
    "1-2q_1-q_2-c_1 = 0\n",
    "$$\n",
    "\n",
    "and\n",
    "\n",
    "$$\n",
    "1-2q_2-q_1-c_2 = 0\n",
    "$$\n",
    "\n",
    "Then we can solve these two equations in the unknowns $q_1,q_2$. However, we usually take a step in between and define the reaction functions. That is, we solve the optimal $q_i$ as a function of $q_j$:\n",
    "\n",
    "$$\n",
    "q_i = \\frac{1}{2}(1-c_i-q_j)\n",
    "$$\n",
    "\n",
    "Or defining $i$'s reaction function as \n",
    "\n",
    "$$\n",
    "R_i(q_j) = \\frac{1}{2}(1-c_i-q_j)\n",
    "$$\n",
    "\n",
    "We have an equilibrium if $q_1 = R_1(q_2)$ and $q_2 = R_2(q_1)$. We can plot the reaction functions to give the following well-known figure.\n",
    "\n"
   ]
  },
  {
   "cell_type": "code",
   "execution_count": 32,
   "metadata": {
    "collapsed": false
   },
   "outputs": [
    {
     "data": {
      "image/png": "[encoded data removed]",
      "text/plain": [
       "<matplotlib.figure.Figure at 0x10f02a850>"
      ]
     },
     "metadata": {},
     "output_type": "display_data"
    }
   ],
   "source": [
    "def reaction_function(q_other,c):\n",
    "    return 0.5*(1-c-q_other)\n",
    "\n",
    "c_1 = 0.0\n",
    "c_2 = 0.0\n",
    "\n",
    "range_q = arange(0.0,1.01,0.01)\n",
    "range_reaction_1 = [reaction_function(q_2,c_1) for q_2 in range_q]\n",
    "range_reaction_2 = [reaction_function(q_1,c_2) for q_1 in range_q]\n",
    "\n",
    "plt.clf()\n",
    "plt.plot(range_q, range_reaction_2,'-', color = 'r', linewidth = 2)\n",
    "plt.plot(range_reaction_1, range_q,'-', color = 'b', linewidth = 2)\n",
    "plt.title(\"Equilibrium\",fontsize = 15)\n",
    "plt.xlabel(\"$q_1$\",fontsize = 15)\n",
    "plt.ylabel(\"$q_2$\",fontsize = 15,rotation = 90)\n",
    "plt.annotate('$R_2(q_1)$', xy=(0.6,reaction_function(0.6,c_2)),  xycoords='data', # here we define the labels and arrows in the graph\n",
    "              xytext=(30, 50), textcoords='offset points', size = 20,\n",
    "              arrowprops=dict(arrowstyle=\"->\", linewidth = 2,\n",
    "                              connectionstyle=\"arc3,rad=.2\"),\n",
    "              )\n",
    "plt.annotate('$R_1(q_2)$', xy=(reaction_function(0.6,c_1),0.6),  xycoords='data', # here we define the labels and arrows in the graph\n",
    "              xytext=(30, 50), textcoords='offset points', size = 20,\n",
    "              arrowprops=dict(arrowstyle=\"->\", linewidth = 2,\n",
    "                              connectionstyle=\"arc3,rad=.2\"),\n",
    "              )\n",
    "\n",
    "\n",
    "\n",
    "\n",
    "# plt.xlim(c,1.0)\n",
    "# plt.ylim(0.0,0.3)\n",
    "plt.savefig('cournot_equilibrium.png')"
   ]
  },
  {
   "cell_type": "markdown",
   "metadata": {},
   "source": [
    "The equilibrium is given by $q_1,q_2$ such that\n",
    "\n",
    "$$\n",
    "\\begin{pmatrix} q_1\\\\ q_2\\end{pmatrix} = \\begin{pmatrix} R_1(q_2)\\\\ R_2(q_1)\\end{pmatrix}\n",
    "$$\n",
    "\n",
    "If both have the same costs, the symmetric equilibrium is given by $q=R(q)$.\n"
   ]
  },
  {
   "cell_type": "markdown",
   "metadata": {},
   "source": [
    "Instead of using the first order condition for $q_i$, we can directly find the optimum using `fmin` as we did above.\n",
    "\n",
    "Let's redo the figure with the reaction functions, now using `fmin`. Note that instead of using `*args`, we use a lambda function here. Both approaches are fine, use the one you like best."
   ]
  },
  {
   "cell_type": "code",
   "execution_count": 46,
   "metadata": {
    "collapsed": false
   },
   "outputs": [
    {
     "data": {
      "image/png": "[encoded data removed]",
      "text/plain": [
       "<matplotlib.figure.Figure at 0x10f4cd110>"
      ]
     },
     "metadata": {},
     "output_type": "display_data"
    }
   ],
   "source": [
    "def minus_duopoly_profits(q,q_other,c):\n",
    "    return -(demand(q+q_other)*q-cost(q,c)) \n",
    "\n",
    "\n",
    "def new_reaction_function(q_other,c):\n",
    "    x0 = 0\n",
    "    output = optimize.fmin(lambda q: minus_duopoly_profits(q,q_other,c),x0,disp = False) # disp = False reduces \n",
    "    return output[0]                                                                     # the output of the routine\n",
    "                                                                                         # disp = True shows the difference\n",
    "c_1 = 0.0\n",
    "c_2 = 0.0\n",
    "\n",
    "range_q = arange(0.0,1.01,0.01)\n",
    "range_reaction_1 = [new_reaction_function(q_2,c_1) for q_2 in range_q]\n",
    "range_reaction_2 = [new_reaction_function(q_1,c_2) for q_1 in range_q]\n",
    "\n",
    "plt.clf()\n",
    "plt.plot(range_q, range_reaction_2,'-', color = 'r', linewidth = 2)\n",
    "plt.plot(range_reaction_1, range_q,'-', color = 'b', linewidth = 2)\n",
    "plt.title(\"Equilibrium\",fontsize = 15)\n",
    "plt.xlabel(\"$q_1$\",fontsize = 15)\n",
    "plt.ylabel(\"$q_2$\",fontsize = 15,rotation = 90)\n",
    "plt.annotate('$R_2(q_1)$', xy=(0.6,reaction_function(0.6,c_2)),  xycoords='data', # here we define the labels and arrows in the graph\n",
    "              xytext=(30, 50), textcoords='offset points', size = 20,\n",
    "              arrowprops=dict(arrowstyle=\"->\", linewidth = 2,\n",
    "                              connectionstyle=\"arc3,rad=.2\"),\n",
    "              )\n",
    "plt.annotate('$R_1(q_2)$', xy=(reaction_function(0.6,c_1),0.6),  xycoords='data', # here we define the labels and arrows in the graph\n",
    "              xytext=(30, 50), textcoords='offset points', size = 20,\n",
    "              arrowprops=dict(arrowstyle=\"->\", linewidth = 2,\n",
    "                              connectionstyle=\"arc3,rad=.2\"),\n",
    "              )\n",
    "\n",
    "\n",
    "\n",
    "\n",
    "# plt.xlim(c,1.0)\n",
    "# plt.ylim(0.0,0.3)\n",
    "plt.savefig('cournot_equilibrium2.png')"
   ]
  },
  {
   "cell_type": "markdown",
   "metadata": {},
   "source": [
    "To calculate the equilibrium, we need to find a so called fixed point of the vector function $R(q)$. This can be seen as follows.\n",
    "\n",
    "Define the function (or mapping) $q \\rightarrow R(q)$ with $q \\in \\Re^2$ and \n",
    "\n",
    "$$\n",
    "R(q) = \\begin{pmatrix} R_1(q_2)\\\\ R_2(q_1)\\end{pmatrix}\n",
    "$$\n",
    "\n",
    "A fixed point of this function is defined as a vector $q$ such that $q=R(q)$. In words, $q_1$ is the optimal reaction to $q_2$ and $q_2$ is the optimal reaction to $q_1$. That is, the vector $q$ is a Nash equilibrium. Each firm $i$ chooses its optimal output level $q_i$, given the choice by the other firm $q_j$.\n"
   ]
  },
  {
   "cell_type": "code",
   "execution_count": 69,
   "metadata": {
    "collapsed": true
   },
   "outputs": [],
   "source": [
    "def vector_reaction_function(q,c): # q is a vector (or list in python) here\n",
    "    x0 = 0\n",
    "    output_1 = optimize.fmin(lambda q1: minus_duopoly_profits(q1,q[1],c[0]),x0,disp = False)\n",
    "    output_2 = optimize.fmin(lambda q2: minus_duopoly_profits(q2,q[0],c[1]),x0,disp = False)\n",
    "    return [output_1[0],output_2[0]]   "
   ]
  },
  {
   "cell_type": "code",
   "execution_count": 72,
   "metadata": {
    "collapsed": false
   },
   "outputs": [
    {
     "data": {
      "text/plain": [
       "array([ 0.3333125,  0.3333125])"
      ]
     },
     "execution_count": 72,
     "metadata": {},
     "output_type": "execute_result"
    }
   ],
   "source": [
    "c = [0.0,0.0]\n",
    "optimize.fsolve(lambda q: q-vector_reaction_function(q,c), [0,0])\n"
   ]
  },
  {
   "cell_type": "markdown",
   "metadata": {},
   "source": [
    "### $n$ firms\n",
    "\n",
    "\n",
    "Now we want to write the functions in such a way that we can calculate the equilibrium for $n$ firms in the market."
   ]
  },
  {
   "cell_type": "code",
   "execution_count": 86,
   "metadata": {
    "collapsed": false
   },
   "outputs": [],
   "source": [
    "def n_reaction_function(q,c): # q is a vector (or list in python) here\n",
    "    n = len(q) # number of firms\n",
    "    firms = range(n) # create a list with n firm identities (0,1,...,n-1)\n",
    "    x0 = 0 # initial guess for a firm's optimal output level --given what the others do\n",
    "    total_output = sum(q)\n",
    "    output = [] # we create an empty list of optimal reactions `output`, and add the optimal reaction of each firm to it\n",
    "    for firm in firms: # we use the duopoly profits with q_other = \\sum_{j \\neq i} q_j = \\sum_{j} q_j - q_i\n",
    "        output.append(optimize.fmin(lambda x: minus_duopoly_profits(x,total_output-q[firm],c[firm]),x0,disp = False)[0])\n",
    "    return output"
   ]
  },
  {
   "cell_type": "code",
   "execution_count": 87,
   "metadata": {
    "collapsed": false
   },
   "outputs": [
    {
     "data": {
      "text/plain": [
       "array([ 0.2,  0.2,  0.2,  0.2])"
      ]
     },
     "execution_count": 87,
     "metadata": {},
     "output_type": "execute_result"
    }
   ],
   "source": [
    "c = [0.0,0.0,0.0,0.0] # consider the case with 4 firms in the market each with c = 0\n",
    "optimize.fsolve(lambda q: q-n_reaction_function(q,c), [0,0,0,0])\n"
   ]
  },
  {
   "cell_type": "markdown",
   "metadata": {},
   "source": [
    "Cournot-Nash equilibrium with 4 firms with zero marginal costs is that each firm produces $q=1/5$."
   ]
  },
  {
   "cell_type": "markdown",
   "metadata": {
    "collapsed": true
   },
   "source": [
    "## Symbolic math\n",
    "\n",
    "There are a number of python libraries for symbolic math. We use the standard one, called  [sympy](http://www.sympy.org). Developments here are going fast, but it seems fair to say that python is not yet up to the Mathematica level. With python you do lose some of the broadness and power of Mathematica. However, in my experience --and I have used both-- for most applications this is more than compensated by the fact that python is by far the better programming language."
   ]
  },
  {
   "cell_type": "code",
   "execution_count": 1,
   "metadata": {
    "collapsed": true
   },
   "outputs": [],
   "source": [
    "import sympy"
   ]
  },
  {
   "cell_type": "markdown",
   "metadata": {},
   "source": [
    "With `init_session` we get \"nice looking\" output."
   ]
  },
  {
   "cell_type": "code",
   "execution_count": 2,
   "metadata": {
    "collapsed": false
   },
   "outputs": [
    {
     "name": "stdout",
     "output_type": "stream",
     "text": [
      "IPython console for SymPy 0.7.6.1 (Python 2.7.11-64-bit) (ground types: python)\n",
      "\n",
      "These commands were executed:\n",
      ">>> from __future__ import division\n",
      ">>> from sympy import *\n",
      ">>> x, y, z, t = symbols('x y z t')\n",
      ">>> k, m, n = symbols('k m n', integer=True)\n",
      ">>> f, g, h = symbols('f g h', cls=Function)\n",
      ">>> init_printing()\n",
      "\n",
      "Documentation can be found at http://www.sympy.org\n"
     ]
    },
    {
     "name": "stderr",
     "output_type": "stream",
     "text": [
      "//anaconda/lib/python2.7/site-packages/matplotlib/font_manager.py:273: UserWarning: Matplotlib is building the font cache using fc-list. This may take a moment.\n",
      "  warnings.warn('Matplotlib is building the font cache using fc-list. This may take a moment.')\n"
     ]
    }
   ],
   "source": [
    "from sympy import init_session\n",
    "init_session() "
   ]
  },
  {
   "cell_type": "markdown",
   "metadata": {},
   "source": [
    "This is what we mean by \"nice looking\":"
   ]
  },
  {
   "cell_type": "code",
   "execution_count": 3,
   "metadata": {
    "collapsed": false
   },
   "outputs": [
    {
     "data": {
      "image/png": "[encoded data removed]",
      "text/latex": [
       "$$\\int \\sqrt{\\frac{1}{x}}\\, dx$$"
      ],
      "text/plain": [
       "⌠           \n",
       "⎮     ___   \n",
       "⎮    ╱ 1    \n",
       "⎮   ╱  ─  dx\n",
       "⎮ ╲╱   x    \n",
       "⌡           "
      ]
     },
     "execution_count": 3,
     "metadata": {},
     "output_type": "execute_result"
    }
   ],
   "source": [
    "Integral(sqrt(1/x),x)"
   ]
  },
  {
   "cell_type": "markdown",
   "metadata": {},
   "source": [
    "We can define a function. Note the statements that were implicitly evaluated by `init_session` above; these defined `f` and `x` as being \"special\" for python. For details on this, see the [gotchas](http://docs.sympy.org/latest/tutorial/gotchas.html). "
   ]
  },
  {
   "cell_type": "code",
   "execution_count": 5,
   "metadata": {
    "collapsed": false
   },
   "outputs": [],
   "source": [
    "f = x**2"
   ]
  },
  {
   "cell_type": "markdown",
   "metadata": {},
   "source": [
    "With this function $f$ we can do calculus:"
   ]
  },
  {
   "cell_type": "code",
   "execution_count": 6,
   "metadata": {
    "collapsed": false
   },
   "outputs": [
    {
     "data": {
      "image/png": "[encoded data removed]",
      "text/latex": [
       "$$2 x$$"
      ],
      "text/plain": [
       "2⋅x"
      ]
     },
     "execution_count": 6,
     "metadata": {},
     "output_type": "execute_result"
    }
   ],
   "source": [
    "diff(f,x)"
   ]
  },
  {
   "cell_type": "code",
   "execution_count": 7,
   "metadata": {
    "collapsed": false
   },
   "outputs": [
    {
     "data": {
      "image/png": "[encoded data removed]",
      "text/latex": [
       "$$2$$"
      ],
      "text/plain": [
       "2"
      ]
     },
     "execution_count": 7,
     "metadata": {},
     "output_type": "execute_result"
    }
   ],
   "source": [
    "diff(f,x,x)"
   ]
  },
  {
   "cell_type": "code",
   "execution_count": 8,
   "metadata": {
    "collapsed": false
   },
   "outputs": [
    {
     "data": {
      "image/png": "[encoded data removed]",
      "text/latex": [
       "$$\\frac{x^{3}}{3}$$"
      ],
      "text/plain": [
       " 3\n",
       "x \n",
       "──\n",
       "3 "
      ]
     },
     "execution_count": 8,
     "metadata": {},
     "output_type": "execute_result"
    }
   ],
   "source": [
    "integrate(f,x)"
   ]
  },
  {
   "cell_type": "markdown",
   "metadata": {},
   "source": [
    "Finally, let's solve the duopoly model above."
   ]
  },
  {
   "cell_type": "code",
   "execution_count": 10,
   "metadata": {
    "collapsed": false
   },
   "outputs": [],
   "source": [
    "q1, q2, c1, c2 = symbols('q1 q2 c1 c2')"
   ]
  },
  {
   "cell_type": "code",
   "execution_count": 11,
   "metadata": {
    "collapsed": false
   },
   "outputs": [
    {
     "data": {
      "image/png": "[encoded data removed]",
      "text/latex": [
       "$$\\left \\{ q_{1} : - \\frac{2 c_{1}}{3} + \\frac{c_{2}}{3} + \\frac{1}{3}, \\quad q_{2} : \\frac{c_{1}}{3} - \\frac{2 c_{2}}{3} + \\frac{1}{3}\\right \\}$$"
      ],
      "text/plain": [
       "⎧      2⋅c₁   c₂   1      c₁   2⋅c₂   1⎫\n",
       "⎨q₁: - ──── + ── + ─, q₂: ── - ──── + ─⎬\n",
       "⎩       3     3    3      3     3     3⎭"
      ]
     },
     "execution_count": 11,
     "metadata": {},
     "output_type": "execute_result"
    }
   ],
   "source": [
    "solve([1-2*q1-q2-c1,1-2*q2-q1-c2], q1, q2)"
   ]
  },
  {
   "cell_type": "code",
   "execution_count": null,
   "metadata": {
    "collapsed": true
   },
   "outputs": [],
   "source": []
  }
 ],
 "metadata": {
  "kernelspec": {
   "display_name": "Python 2",
   "language": "python",
   "name": "python2"
  },
  "language_info": {
   "codemirror_mode": {
    "name": "ipython",
    "version": 2
   },
   "file_extension": ".py",
   "mimetype": "text/x-python",
   "name": "python",
   "nbconvert_exporter": "python",
   "pygments_lexer": "ipython2",
   "version": "2.7.11"
  }
 },
 "nbformat": 4,
 "nbformat_minor": 0
}
